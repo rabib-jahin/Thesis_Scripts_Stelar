{
 "cells": [
  {
   "cell_type": "code",
   "execution_count": null,
   "metadata": {},
   "outputs": [],
   "source": [
    "import matplotlib.pyplot as plt\n",
    "import pandas as pd\n",
    "import numpy as np\n",
    "\n",
    "# Assuming your data is in a CSV file named '../Dataset/final.csv'\n",
    "data = pd.read_csv('../Dataset/final.csv')\n",
    "\n",
    "# Splitting data by 'folder'\n",
    "folders = data['folder'].unique()\n",
    "\n",
    "# Creating a bar chart for each folder\n",
    "for folder in folders:\n",
    "    folder_data = data[data['folder'] == folder]\n",
    "\n",
    "    # Getting unique inner_folders for the x-axis\n",
    "    inner_folders = folder_data['inner_folder'].unique()\n",
    "\n",
    "    # Preparing the data for plotting\n",
    "    summary_methods = folder_data['summary_method'].unique()\n",
    "    rooting_methods = folder_data['rooting_method'].fillna('None').unique()\n",
    "\n",
    "    # Creating a bar for each summary_method-rooting_method combination\n",
    "    bar_width = 0.2\n",
    "    x = np.arange(len(inner_folders))\n",
    "\n",
    "    fig, ax = plt.subplots()\n",
    "    for i, summary_method in enumerate(summary_methods):\n",
    "        for j, rooting_method in enumerate(rooting_methods):\n",
    "            # Initializing y values for all inner_folders\n",
    "            y = np.zeros(len(inner_folders))\n",
    "            for k, inner_folder in enumerate(inner_folders):\n",
    "                # Get average_rf for specific combination, default to 0 if missing\n",
    "                y[k] = folder_data[(folder_data['summary_method'] == summary_method) & \n",
    "                                   (folder_data['rooting_method'].fillna('None') == rooting_method) & \n",
    "                                   (folder_data['inner_folder'] == inner_folder)]['average_rf'].fillna(0).mean()\n",
    "            \n",
    "            ax.bar(x + (i*len(rooting_methods)+j) * bar_width, y, width=bar_width, label=f'{summary_method}-{rooting_method}')\n",
    "\n",
    "    # Adding labels and title\n",
    "    ax.set_xlabel('Inner Folder')\n",
    "    ax.set_ylabel('Average RF')\n",
    "    ax.set_title(f'Average RF for {folder}')\n",
    "    ax.set_xticks(x + bar_width * (len(summary_methods) * len(rooting_methods)) / 2)\n",
    "    ax.set_xticklabels(inner_folders)\n",
    "    ax.legend()\n",
    "\n",
    "    # Display the plot\n",
    "    plt.xticks(rotation=45)\n",
    "    plt.tight_layout()\n",
    "    plt.show()"
   ]
  }
 ],
 "metadata": {
  "kernelspec": {
   "display_name": "Python 3",
   "language": "python",
   "name": "python3"
  },
  "language_info": {
   "codemirror_mode": {
    "name": "ipython",
    "version": 3
   },
   "file_extension": ".py",
   "mimetype": "text/x-python",
   "name": "python",
   "nbconvert_exporter": "python",
   "pygments_lexer": "ipython3",
   "version": "3.10.12"
  }
 },
 "nbformat": 4,
 "nbformat_minor": 2
}
